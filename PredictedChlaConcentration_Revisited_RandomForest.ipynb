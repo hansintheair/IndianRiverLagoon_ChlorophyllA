{
 "cells": [
  {
   "cell_type": "markdown",
   "metadata": {},
   "source": [
    "# Predict Chl-a in Turbid Estuarine Water"
   ]
  },
  {
   "cell_type": "markdown",
   "metadata": {},
   "source": [
    "## Data Setup"
   ]
  },
  {
   "cell_type": "markdown",
   "metadata": {},
   "source": [
    "Import libraries"
   ]
  },
  {
   "cell_type": "code",
   "execution_count": 6,
   "metadata": {},
   "outputs": [],
   "source": [
    "import arcpy, numpy, scipy, sklearn, sklearn.ensemble, sklearn.linear_model, pandas, seaborn, matplotlib, arcgisscripting, SSUtilities, os\n",
    "from sklearn import model_selection\n",
    "from sklearn import metrics"
   ]
  },
  {
   "cell_type": "markdown",
   "metadata": {},
   "source": [
    "Define input data variables"
   ]
  },
  {
   "cell_type": "code",
   "execution_count": 7,
   "metadata": {},
   "outputs": [],
   "source": [
    "in_dataset = r'C:\\Users\\zieglerhm\\Documents\\Files\\Portfolio\\Estimate_Chla\\Predict_ChlA.gdb\\insitu_chla_measures_points_average_cropped_bands'\n",
    "in_columns = ['SHAPE@XY', 'OBJECTID', 'Station', 'Cnt_Station', 'Ave_Value_Chla', 'Latitude_DD', 'Longitude_DD',\n",
    "              'b1_Band', 'b2_Band', 'b3_Band', 'b4_Band', 'b5_Band', 'b6_Band', 'b7_Band', 'b8_Band', 'b9_Band',\n",
    "              'b10_Band', 'b11_Band', 'b12_Band', 'b13_Band', 'b14_Band', 'b15_Band', 'b16_Band', 'b17_Band',\n",
    "              'b18_Band', 'b19_Band', 'b20_Band', 'b21_Band', 'b22_Band', 'b23_Band', 'b24_Band', 'b25_Band', 'b26_Band',\n",
    "              'b27_Band', 'b28_Band', 'b29_Band', 'b30_Band', 'b31_Band', 'b32_Band', 'b33_Band', 'b34_Band', 'b35_Band', \n",
    "              'b36_Band', 'b37_Band', 'b38_Band', 'b39_Band', 'b40_Band', 'b41_Band', 'b42_Band', 'b43_Band', 'b44_Band', \n",
    "              'b45_Band', 'b46_Band', 'b47_Band', 'b48_Band', 'b49_Band', 'b50_Band', 'b51_Band', 'b52_Band', 'b53_Band',\n",
    "              'b54_Band', 'b55_Band', 'b56_Band', 'b57_Band', 'b58_Band', 'b59_Band', 'b60_Band', 'b61_Band', 'b62_Band',\n",
    "              'b63_Band', 'b64_Band', 'b65_Band', 'b66_Band', 'b67_Band', 'b68_Band', 'b69_Band', 'b70_Band', 'b71_Band', \n",
    "              'b72_Band', 'b73_Band', 'b74_Band', 'b75_Band', 'b76_Band', 'b77_Band', 'b78_Band', 'b79_Band', 'b80_Band',\n",
    "              'b81_Band', 'b82_Band', 'b83_Band', 'b84_Band', 'b85_Band', 'b86_Band', 'b87_Band']\n",
    "feat_vars = in_columns[7:]\n",
    "target_var = ['Ave_Value_Chla']"
   ]
  },
  {
   "cell_type": "markdown",
   "metadata": {},
   "source": [
    "Import prepared sample data from ArcGIS as numpy array"
   ]
  },
  {
   "cell_type": "code",
   "execution_count": 8,
   "metadata": {
    "scrolled": true
   },
   "outputs": [
    {
     "data": {
      "text/plain": [
       "array([([-80.812425  ,  28.68695833], 1, '27010875', 1, 4.00564275, 28.68695833, -80.812425  , 27, 36, 34, 38, 47, 55, 48, 48, 48, 51, 53, 54, 56, 60, 68, 68, 65, 66, 63, 68, 74, 73, 74, 77, 76, 76, 79, 78, 75, 70, 69, 68, 67, 64, 57, 51, 47, 46, 45, 44, 43, 41, 41, 40, 38, 35, 32, 31, 33, 36, 37, 32, 27, 23, 19, 17, 15, 12,  6,  6,  7,  8, 10, 12, 10,  7,  6,  6,  7,  8,  8, 10, 12, 15, 15, 14, 14, 15, 18, 21, 21, 20, 20, 21, 24, 29, 34),\n",
       "       ([-80.80071278,  28.73696694], 2, 'IRLI02', 1, 5.62214993, 28.73696694, -80.80071278, 41, 36, 33, 42, 50, 55, 51, 52, 52, 52, 52, 54, 56, 58, 66, 68, 66, 67, 62, 65, 73, 73, 74, 77, 78, 76, 76, 76, 75, 73, 70, 69, 70, 66, 58, 52, 49, 48, 48, 46, 43, 43, 44, 44, 42, 37, 34, 33, 34, 39, 41, 38, 34, 27, 26, 27, 26, 20, 15, 13, 13, 13, 15, 15, 13, 12, 11, 11, 11, 12, 12, 14, 16, 18, 19, 20, 22, 24, 25, 26, 25, 25, 25, 27, 30, 34, 41),\n",
       "       ([-80.80200694,  28.63580083], 3, 'IRLI06', 1, 4.74509997, 28.63580083, -80.80200694, 26, 32, 29, 32, 41, 46, 41, 47, 46, 48, 50, 50, 54, 54, 61, 63, 60, 62, 58, 62, 71, 69, 66, 68, 70, 71, 71, 71, 70, 68, 66, 65, 67, 65, 57, 50, 46, 45, 45, 45, 45, 44, 44, 44, 42, 39, 37, 36, 36, 41, 46, 41, 35, 28, 28, 29, 26, 21, 16, 14, 12, 14, 16, 16, 14, 12, 11, 11, 12, 13, 14, 16, 18, 19, 19, 19, 20, 23, 26, 27, 28, 27, 26, 27, 29, 34, 41)],\n",
       "      dtype=[('SHAPE@XY', '<f8', (2,)), ('OBJECTID', '<i4'), ('Station', '<U255'), ('Cnt_Station', '<i4'), ('Ave_Value_Chla', '<f8'), ('Latitude_DD', '<f8'), ('Longitude_DD', '<f8'), ('b1_Band', '<i4'), ('b2_Band', '<i4'), ('b3_Band', '<i4'), ('b4_Band', '<i4'), ('b5_Band', '<i4'), ('b6_Band', '<i4'), ('b7_Band', '<i4'), ('b8_Band', '<i4'), ('b9_Band', '<i4'), ('b10_Band', '<i4'), ('b11_Band', '<i4'), ('b12_Band', '<i4'), ('b13_Band', '<i4'), ('b14_Band', '<i4'), ('b15_Band', '<i4'), ('b16_Band', '<i4'), ('b17_Band', '<i4'), ('b18_Band', '<i4'), ('b19_Band', '<i4'), ('b20_Band', '<i4'), ('b21_Band', '<i4'), ('b22_Band', '<i4'), ('b23_Band', '<i4'), ('b24_Band', '<i4'), ('b25_Band', '<i4'), ('b26_Band', '<i4'), ('b27_Band', '<i4'), ('b28_Band', '<i4'), ('b29_Band', '<i4'), ('b30_Band', '<i4'), ('b31_Band', '<i4'), ('b32_Band', '<i4'), ('b33_Band', '<i4'), ('b34_Band', '<i4'), ('b35_Band', '<i4'), ('b36_Band', '<i4'), ('b37_Band', '<i4'), ('b38_Band', '<i4'), ('b39_Band', '<i4'), ('b40_Band', '<i4'), ('b41_Band', '<i4'), ('b42_Band', '<i4'), ('b43_Band', '<i4'), ('b44_Band', '<i4'), ('b45_Band', '<i4'), ('b46_Band', '<i4'), ('b47_Band', '<i4'), ('b48_Band', '<i4'), ('b49_Band', '<i4'), ('b50_Band', '<i4'), ('b51_Band', '<i4'), ('b52_Band', '<i4'), ('b53_Band', '<i4'), ('b54_Band', '<i4'), ('b55_Band', '<i4'), ('b56_Band', '<i4'), ('b57_Band', '<i4'), ('b58_Band', '<i4'), ('b59_Band', '<i4'), ('b60_Band', '<i4'), ('b61_Band', '<i4'), ('b62_Band', '<i4'), ('b63_Band', '<i4'), ('b64_Band', '<i4'), ('b65_Band', '<i4'), ('b66_Band', '<i4'), ('b67_Band', '<i4'), ('b68_Band', '<i4'), ('b69_Band', '<i4'), ('b70_Band', '<i4'), ('b71_Band', '<i4'), ('b72_Band', '<i4'), ('b73_Band', '<i4'), ('b74_Band', '<i4'), ('b75_Band', '<i4'), ('b76_Band', '<i4'), ('b77_Band', '<i4'), ('b78_Band', '<i4'), ('b79_Band', '<i4'), ('b80_Band', '<i4'), ('b81_Band', '<i4'), ('b82_Band', '<i4'), ('b83_Band', '<i4'), ('b84_Band', '<i4'), ('b85_Band', '<i4'), ('b86_Band', '<i4'), ('b87_Band', '<i4')])"
      ]
     },
     "execution_count": 8,
     "metadata": {},
     "output_type": "execute_result"
    }
   ],
   "source": [
    "in_dataset_array = arcpy.da.FeatureClassToNumPyArray(in_dataset, in_columns)\n",
    "in_train_spref = arcpy.Describe(in_dataset).SpatialReference\n",
    "in_dataset_array[:3]"
   ]
  },
  {
   "cell_type": "markdown",
   "metadata": {},
   "source": [
    "Use the print command to show the size of the dataset. Type labels for both and concatenate them with the string version of the variable."
   ]
  },
  {
   "cell_type": "code",
   "execution_count": 9,
   "metadata": {},
   "outputs": [
    {
     "name": "stdout",
     "output_type": "stream",
     "text": [
      "Entire Dataset Size: 10 cols x 94 rows\n"
     ]
    }
   ],
   "source": [
    "print('Entire Dataset Size: {} cols x {} rows'.format(in_dataset_array.size, len(in_dataset_array[0])) )"
   ]
  },
  {
   "cell_type": "markdown",
   "metadata": {},
   "source": [
    "Convert the numpy array to a pandas data frame"
   ]
  },
  {
   "cell_type": "code",
   "execution_count": 10,
   "metadata": {
    "scrolled": true
   },
   "outputs": [
    {
     "data": {
      "text/html": [
       "<div>\n",
       "<style scoped>\n",
       "    .dataframe tbody tr th:only-of-type {\n",
       "        vertical-align: middle;\n",
       "    }\n",
       "\n",
       "    .dataframe tbody tr th {\n",
       "        vertical-align: top;\n",
       "    }\n",
       "\n",
       "    .dataframe thead th {\n",
       "        text-align: right;\n",
       "    }\n",
       "</style>\n",
       "<table border=\"1\" class=\"dataframe\">\n",
       "  <thead>\n",
       "    <tr style=\"text-align: right;\">\n",
       "      <th></th>\n",
       "      <th>OBJECTID</th>\n",
       "      <th>Station</th>\n",
       "      <th>Cnt_Station</th>\n",
       "      <th>Ave_Value_Chla</th>\n",
       "      <th>Latitude_DD</th>\n",
       "      <th>Longitude_DD</th>\n",
       "      <th>b1_Band</th>\n",
       "      <th>b2_Band</th>\n",
       "      <th>b3_Band</th>\n",
       "      <th>b4_Band</th>\n",
       "      <th>...</th>\n",
       "      <th>b78_Band</th>\n",
       "      <th>b79_Band</th>\n",
       "      <th>b80_Band</th>\n",
       "      <th>b81_Band</th>\n",
       "      <th>b82_Band</th>\n",
       "      <th>b83_Band</th>\n",
       "      <th>b84_Band</th>\n",
       "      <th>b85_Band</th>\n",
       "      <th>b86_Band</th>\n",
       "      <th>b87_Band</th>\n",
       "    </tr>\n",
       "  </thead>\n",
       "  <tbody>\n",
       "    <tr>\n",
       "      <th>0</th>\n",
       "      <td>1</td>\n",
       "      <td>27010875</td>\n",
       "      <td>1</td>\n",
       "      <td>4.005643</td>\n",
       "      <td>28.686958</td>\n",
       "      <td>-80.812425</td>\n",
       "      <td>27</td>\n",
       "      <td>36</td>\n",
       "      <td>34</td>\n",
       "      <td>38</td>\n",
       "      <td>...</td>\n",
       "      <td>15</td>\n",
       "      <td>18</td>\n",
       "      <td>21</td>\n",
       "      <td>21</td>\n",
       "      <td>20</td>\n",
       "      <td>20</td>\n",
       "      <td>21</td>\n",
       "      <td>24</td>\n",
       "      <td>29</td>\n",
       "      <td>34</td>\n",
       "    </tr>\n",
       "    <tr>\n",
       "      <th>1</th>\n",
       "      <td>2</td>\n",
       "      <td>IRLI02</td>\n",
       "      <td>1</td>\n",
       "      <td>5.622150</td>\n",
       "      <td>28.736967</td>\n",
       "      <td>-80.800713</td>\n",
       "      <td>41</td>\n",
       "      <td>36</td>\n",
       "      <td>33</td>\n",
       "      <td>42</td>\n",
       "      <td>...</td>\n",
       "      <td>24</td>\n",
       "      <td>25</td>\n",
       "      <td>26</td>\n",
       "      <td>25</td>\n",
       "      <td>25</td>\n",
       "      <td>25</td>\n",
       "      <td>27</td>\n",
       "      <td>30</td>\n",
       "      <td>34</td>\n",
       "      <td>41</td>\n",
       "    </tr>\n",
       "    <tr>\n",
       "      <th>2</th>\n",
       "      <td>3</td>\n",
       "      <td>IRLI06</td>\n",
       "      <td>1</td>\n",
       "      <td>4.745100</td>\n",
       "      <td>28.635801</td>\n",
       "      <td>-80.802007</td>\n",
       "      <td>26</td>\n",
       "      <td>32</td>\n",
       "      <td>29</td>\n",
       "      <td>32</td>\n",
       "      <td>...</td>\n",
       "      <td>23</td>\n",
       "      <td>26</td>\n",
       "      <td>27</td>\n",
       "      <td>28</td>\n",
       "      <td>27</td>\n",
       "      <td>26</td>\n",
       "      <td>27</td>\n",
       "      <td>29</td>\n",
       "      <td>34</td>\n",
       "      <td>41</td>\n",
       "    </tr>\n",
       "    <tr>\n",
       "      <th>3</th>\n",
       "      <td>4</td>\n",
       "      <td>IRLI07</td>\n",
       "      <td>1</td>\n",
       "      <td>5.479870</td>\n",
       "      <td>28.603470</td>\n",
       "      <td>-80.798395</td>\n",
       "      <td>22</td>\n",
       "      <td>27</td>\n",
       "      <td>23</td>\n",
       "      <td>30</td>\n",
       "      <td>...</td>\n",
       "      <td>28</td>\n",
       "      <td>29</td>\n",
       "      <td>29</td>\n",
       "      <td>28</td>\n",
       "      <td>28</td>\n",
       "      <td>29</td>\n",
       "      <td>32</td>\n",
       "      <td>36</td>\n",
       "      <td>40</td>\n",
       "      <td>44</td>\n",
       "    </tr>\n",
       "    <tr>\n",
       "      <th>4</th>\n",
       "      <td>5</td>\n",
       "      <td>IRLI09E</td>\n",
       "      <td>2</td>\n",
       "      <td>4.176430</td>\n",
       "      <td>28.556361</td>\n",
       "      <td>-80.741583</td>\n",
       "      <td>14</td>\n",
       "      <td>25</td>\n",
       "      <td>24</td>\n",
       "      <td>25</td>\n",
       "      <td>...</td>\n",
       "      <td>24</td>\n",
       "      <td>25</td>\n",
       "      <td>27</td>\n",
       "      <td>28</td>\n",
       "      <td>27</td>\n",
       "      <td>28</td>\n",
       "      <td>30</td>\n",
       "      <td>36</td>\n",
       "      <td>42</td>\n",
       "      <td>49</td>\n",
       "    </tr>\n",
       "    <tr>\n",
       "      <th>5</th>\n",
       "      <td>6</td>\n",
       "      <td>IRLI10</td>\n",
       "      <td>1</td>\n",
       "      <td>3.926270</td>\n",
       "      <td>28.501210</td>\n",
       "      <td>-80.768594</td>\n",
       "      <td>0</td>\n",
       "      <td>3</td>\n",
       "      <td>7</td>\n",
       "      <td>18</td>\n",
       "      <td>...</td>\n",
       "      <td>18</td>\n",
       "      <td>20</td>\n",
       "      <td>21</td>\n",
       "      <td>22</td>\n",
       "      <td>23</td>\n",
       "      <td>24</td>\n",
       "      <td>26</td>\n",
       "      <td>26</td>\n",
       "      <td>28</td>\n",
       "      <td>33</td>\n",
       "    </tr>\n",
       "    <tr>\n",
       "      <th>6</th>\n",
       "      <td>7</td>\n",
       "      <td>IRLI13</td>\n",
       "      <td>1</td>\n",
       "      <td>3.450180</td>\n",
       "      <td>28.393066</td>\n",
       "      <td>-80.735861</td>\n",
       "      <td>30</td>\n",
       "      <td>32</td>\n",
       "      <td>34</td>\n",
       "      <td>34</td>\n",
       "      <td>...</td>\n",
       "      <td>25</td>\n",
       "      <td>27</td>\n",
       "      <td>29</td>\n",
       "      <td>30</td>\n",
       "      <td>29</td>\n",
       "      <td>29</td>\n",
       "      <td>31</td>\n",
       "      <td>35</td>\n",
       "      <td>40</td>\n",
       "      <td>47</td>\n",
       "    </tr>\n",
       "    <tr>\n",
       "      <th>7</th>\n",
       "      <td>8</td>\n",
       "      <td>IRLI15</td>\n",
       "      <td>1</td>\n",
       "      <td>3.955540</td>\n",
       "      <td>28.335345</td>\n",
       "      <td>-80.713094</td>\n",
       "      <td>55</td>\n",
       "      <td>57</td>\n",
       "      <td>48</td>\n",
       "      <td>46</td>\n",
       "      <td>...</td>\n",
       "      <td>35</td>\n",
       "      <td>38</td>\n",
       "      <td>40</td>\n",
       "      <td>41</td>\n",
       "      <td>41</td>\n",
       "      <td>41</td>\n",
       "      <td>43</td>\n",
       "      <td>46</td>\n",
       "      <td>48</td>\n",
       "      <td>52</td>\n",
       "    </tr>\n",
       "    <tr>\n",
       "      <th>8</th>\n",
       "      <td>9</td>\n",
       "      <td>IRLML02</td>\n",
       "      <td>2</td>\n",
       "      <td>2.504793</td>\n",
       "      <td>28.731917</td>\n",
       "      <td>-80.717235</td>\n",
       "      <td>25</td>\n",
       "      <td>35</td>\n",
       "      <td>38</td>\n",
       "      <td>37</td>\n",
       "      <td>...</td>\n",
       "      <td>27</td>\n",
       "      <td>28</td>\n",
       "      <td>28</td>\n",
       "      <td>29</td>\n",
       "      <td>30</td>\n",
       "      <td>32</td>\n",
       "      <td>33</td>\n",
       "      <td>34</td>\n",
       "      <td>38</td>\n",
       "      <td>45</td>\n",
       "    </tr>\n",
       "    <tr>\n",
       "      <th>9</th>\n",
       "      <td>10</td>\n",
       "      <td>IRLML169</td>\n",
       "      <td>1</td>\n",
       "      <td>4.315731</td>\n",
       "      <td>28.837499</td>\n",
       "      <td>-80.794821</td>\n",
       "      <td>79</td>\n",
       "      <td>70</td>\n",
       "      <td>56</td>\n",
       "      <td>62</td>\n",
       "      <td>...</td>\n",
       "      <td>29</td>\n",
       "      <td>30</td>\n",
       "      <td>32</td>\n",
       "      <td>33</td>\n",
       "      <td>33</td>\n",
       "      <td>33</td>\n",
       "      <td>35</td>\n",
       "      <td>39</td>\n",
       "      <td>44</td>\n",
       "      <td>48</td>\n",
       "    </tr>\n",
       "  </tbody>\n",
       "</table>\n",
       "<p>10 rows × 93 columns</p>\n",
       "</div>"
      ],
      "text/plain": [
       "   OBJECTID   Station  Cnt_Station  Ave_Value_Chla  Latitude_DD  Longitude_DD  \\\n",
       "0         1  27010875            1        4.005643    28.686958    -80.812425   \n",
       "1         2    IRLI02            1        5.622150    28.736967    -80.800713   \n",
       "2         3    IRLI06            1        4.745100    28.635801    -80.802007   \n",
       "3         4    IRLI07            1        5.479870    28.603470    -80.798395   \n",
       "4         5   IRLI09E            2        4.176430    28.556361    -80.741583   \n",
       "5         6    IRLI10            1        3.926270    28.501210    -80.768594   \n",
       "6         7    IRLI13            1        3.450180    28.393066    -80.735861   \n",
       "7         8    IRLI15            1        3.955540    28.335345    -80.713094   \n",
       "8         9   IRLML02            2        2.504793    28.731917    -80.717235   \n",
       "9        10  IRLML169            1        4.315731    28.837499    -80.794821   \n",
       "\n",
       "   b1_Band  b2_Band  b3_Band  b4_Band    ...     b78_Band  b79_Band  b80_Band  \\\n",
       "0       27       36       34       38    ...           15        18        21   \n",
       "1       41       36       33       42    ...           24        25        26   \n",
       "2       26       32       29       32    ...           23        26        27   \n",
       "3       22       27       23       30    ...           28        29        29   \n",
       "4       14       25       24       25    ...           24        25        27   \n",
       "5        0        3        7       18    ...           18        20        21   \n",
       "6       30       32       34       34    ...           25        27        29   \n",
       "7       55       57       48       46    ...           35        38        40   \n",
       "8       25       35       38       37    ...           27        28        28   \n",
       "9       79       70       56       62    ...           29        30        32   \n",
       "\n",
       "   b81_Band  b82_Band  b83_Band  b84_Band  b85_Band  b86_Band  b87_Band  \n",
       "0        21        20        20        21        24        29        34  \n",
       "1        25        25        25        27        30        34        41  \n",
       "2        28        27        26        27        29        34        41  \n",
       "3        28        28        29        32        36        40        44  \n",
       "4        28        27        28        30        36        42        49  \n",
       "5        22        23        24        26        26        28        33  \n",
       "6        30        29        29        31        35        40        47  \n",
       "7        41        41        41        43        46        48        52  \n",
       "8        29        30        32        33        34        38        45  \n",
       "9        33        33        33        35        39        44        48  \n",
       "\n",
       "[10 rows x 93 columns]"
      ]
     },
     "execution_count": 10,
     "metadata": {},
     "output_type": "execute_result"
    }
   ],
   "source": [
    "in_dataset_df = pandas.DataFrame(in_dataset_array, columns = in_columns[1:])\n",
    "in_dataset_df"
   ]
  },
  {
   "cell_type": "markdown",
   "metadata": {},
   "source": [
    "To check viability of Random Forest model for the dataset, create a correlation matrix for in_dataset (which contains all 10 samples from which in_train is a subset). Cast all variables to data type 'float64' before using pandas.DataFrame.corr() to create a correlation chart.\n"
   ]
  },
  {
   "cell_type": "code",
   "execution_count": 11,
   "metadata": {},
   "outputs": [
    {
     "data": {
      "text/html": [
       "<div>\n",
       "<style scoped>\n",
       "    .dataframe tbody tr th:only-of-type {\n",
       "        vertical-align: middle;\n",
       "    }\n",
       "\n",
       "    .dataframe tbody tr th {\n",
       "        vertical-align: top;\n",
       "    }\n",
       "\n",
       "    .dataframe thead th {\n",
       "        text-align: right;\n",
       "    }\n",
       "</style>\n",
       "<table border=\"1\" class=\"dataframe\">\n",
       "  <thead>\n",
       "    <tr style=\"text-align: right;\">\n",
       "      <th></th>\n",
       "      <th>Ave_Value_Chla</th>\n",
       "      <th>b1_Band</th>\n",
       "      <th>b2_Band</th>\n",
       "      <th>b3_Band</th>\n",
       "      <th>b4_Band</th>\n",
       "      <th>b5_Band</th>\n",
       "      <th>b6_Band</th>\n",
       "      <th>b7_Band</th>\n",
       "      <th>b8_Band</th>\n",
       "      <th>b9_Band</th>\n",
       "      <th>...</th>\n",
       "      <th>b78_Band</th>\n",
       "      <th>b79_Band</th>\n",
       "      <th>b80_Band</th>\n",
       "      <th>b81_Band</th>\n",
       "      <th>b82_Band</th>\n",
       "      <th>b83_Band</th>\n",
       "      <th>b84_Band</th>\n",
       "      <th>b85_Band</th>\n",
       "      <th>b86_Band</th>\n",
       "      <th>b87_Band</th>\n",
       "    </tr>\n",
       "  </thead>\n",
       "  <tbody>\n",
       "    <tr>\n",
       "      <th>Ave_Value_Chla</th>\n",
       "      <td>1.000000</td>\n",
       "      <td>0.110250</td>\n",
       "      <td>-0.005274</td>\n",
       "      <td>-0.160892</td>\n",
       "      <td>0.037720</td>\n",
       "      <td>0.236918</td>\n",
       "      <td>0.163635</td>\n",
       "      <td>0.094093</td>\n",
       "      <td>0.121171</td>\n",
       "      <td>0.105461</td>\n",
       "      <td>...</td>\n",
       "      <td>-0.002702</td>\n",
       "      <td>-0.023808</td>\n",
       "      <td>-0.045213</td>\n",
       "      <td>-0.152372</td>\n",
       "      <td>-0.182189</td>\n",
       "      <td>-0.245032</td>\n",
       "      <td>-0.183113</td>\n",
       "      <td>-0.089060</td>\n",
       "      <td>-0.077450</td>\n",
       "      <td>-0.124082</td>\n",
       "    </tr>\n",
       "    <tr>\n",
       "      <th>b1_Band</th>\n",
       "      <td>0.110250</td>\n",
       "      <td>1.000000</td>\n",
       "      <td>0.968963</td>\n",
       "      <td>0.929777</td>\n",
       "      <td>0.979154</td>\n",
       "      <td>0.942699</td>\n",
       "      <td>0.905088</td>\n",
       "      <td>0.900804</td>\n",
       "      <td>0.903779</td>\n",
       "      <td>0.875290</td>\n",
       "      <td>...</td>\n",
       "      <td>0.600014</td>\n",
       "      <td>0.603803</td>\n",
       "      <td>0.664197</td>\n",
       "      <td>0.641333</td>\n",
       "      <td>0.625930</td>\n",
       "      <td>0.564884</td>\n",
       "      <td>0.553193</td>\n",
       "      <td>0.582838</td>\n",
       "      <td>0.602068</td>\n",
       "      <td>0.533827</td>\n",
       "    </tr>\n",
       "    <tr>\n",
       "      <th>b2_Band</th>\n",
       "      <td>-0.005274</td>\n",
       "      <td>0.968963</td>\n",
       "      <td>1.000000</td>\n",
       "      <td>0.978624</td>\n",
       "      <td>0.964031</td>\n",
       "      <td>0.902758</td>\n",
       "      <td>0.893336</td>\n",
       "      <td>0.893506</td>\n",
       "      <td>0.890619</td>\n",
       "      <td>0.862160</td>\n",
       "      <td>...</td>\n",
       "      <td>0.621949</td>\n",
       "      <td>0.637524</td>\n",
       "      <td>0.705098</td>\n",
       "      <td>0.690464</td>\n",
       "      <td>0.664016</td>\n",
       "      <td>0.610275</td>\n",
       "      <td>0.584948</td>\n",
       "      <td>0.625140</td>\n",
       "      <td>0.660381</td>\n",
       "      <td>0.600292</td>\n",
       "    </tr>\n",
       "    <tr>\n",
       "      <th>b3_Band</th>\n",
       "      <td>-0.160892</td>\n",
       "      <td>0.929777</td>\n",
       "      <td>0.978624</td>\n",
       "      <td>1.000000</td>\n",
       "      <td>0.947614</td>\n",
       "      <td>0.840990</td>\n",
       "      <td>0.854585</td>\n",
       "      <td>0.868659</td>\n",
       "      <td>0.856527</td>\n",
       "      <td>0.832292</td>\n",
       "      <td>...</td>\n",
       "      <td>0.599218</td>\n",
       "      <td>0.614692</td>\n",
       "      <td>0.680265</td>\n",
       "      <td>0.675484</td>\n",
       "      <td>0.651430</td>\n",
       "      <td>0.607505</td>\n",
       "      <td>0.570265</td>\n",
       "      <td>0.597783</td>\n",
       "      <td>0.637395</td>\n",
       "      <td>0.605319</td>\n",
       "    </tr>\n",
       "    <tr>\n",
       "      <th>b4_Band</th>\n",
       "      <td>0.037720</td>\n",
       "      <td>0.979154</td>\n",
       "      <td>0.964031</td>\n",
       "      <td>0.947614</td>\n",
       "      <td>1.000000</td>\n",
       "      <td>0.957883</td>\n",
       "      <td>0.949677</td>\n",
       "      <td>0.954595</td>\n",
       "      <td>0.946005</td>\n",
       "      <td>0.925004</td>\n",
       "      <td>...</td>\n",
       "      <td>0.503758</td>\n",
       "      <td>0.501986</td>\n",
       "      <td>0.559362</td>\n",
       "      <td>0.535255</td>\n",
       "      <td>0.526473</td>\n",
       "      <td>0.476030</td>\n",
       "      <td>0.454165</td>\n",
       "      <td>0.474753</td>\n",
       "      <td>0.501800</td>\n",
       "      <td>0.439362</td>\n",
       "    </tr>\n",
       "  </tbody>\n",
       "</table>\n",
       "<p>5 rows × 88 columns</p>\n",
       "</div>"
      ],
      "text/plain": [
       "                Ave_Value_Chla   b1_Band   b2_Band   b3_Band   b4_Band  \\\n",
       "Ave_Value_Chla        1.000000  0.110250 -0.005274 -0.160892  0.037720   \n",
       "b1_Band               0.110250  1.000000  0.968963  0.929777  0.979154   \n",
       "b2_Band              -0.005274  0.968963  1.000000  0.978624  0.964031   \n",
       "b3_Band              -0.160892  0.929777  0.978624  1.000000  0.947614   \n",
       "b4_Band               0.037720  0.979154  0.964031  0.947614  1.000000   \n",
       "\n",
       "                 b5_Band   b6_Band   b7_Band   b8_Band   b9_Band    ...     \\\n",
       "Ave_Value_Chla  0.236918  0.163635  0.094093  0.121171  0.105461    ...      \n",
       "b1_Band         0.942699  0.905088  0.900804  0.903779  0.875290    ...      \n",
       "b2_Band         0.902758  0.893336  0.893506  0.890619  0.862160    ...      \n",
       "b3_Band         0.840990  0.854585  0.868659  0.856527  0.832292    ...      \n",
       "b4_Band         0.957883  0.949677  0.954595  0.946005  0.925004    ...      \n",
       "\n",
       "                b78_Band  b79_Band  b80_Band  b81_Band  b82_Band  b83_Band  \\\n",
       "Ave_Value_Chla -0.002702 -0.023808 -0.045213 -0.152372 -0.182189 -0.245032   \n",
       "b1_Band         0.600014  0.603803  0.664197  0.641333  0.625930  0.564884   \n",
       "b2_Band         0.621949  0.637524  0.705098  0.690464  0.664016  0.610275   \n",
       "b3_Band         0.599218  0.614692  0.680265  0.675484  0.651430  0.607505   \n",
       "b4_Band         0.503758  0.501986  0.559362  0.535255  0.526473  0.476030   \n",
       "\n",
       "                b84_Band  b85_Band  b86_Band  b87_Band  \n",
       "Ave_Value_Chla -0.183113 -0.089060 -0.077450 -0.124082  \n",
       "b1_Band         0.553193  0.582838  0.602068  0.533827  \n",
       "b2_Band         0.584948  0.625140  0.660381  0.600292  \n",
       "b3_Band         0.570265  0.597783  0.637395  0.605319  \n",
       "b4_Band         0.454165  0.474753  0.501800  0.439362  \n",
       "\n",
       "[5 rows x 88 columns]"
      ]
     },
     "execution_count": 11,
     "metadata": {},
     "output_type": "execute_result"
    }
   ],
   "source": [
    "correlation = in_dataset_df[numpy.array(['Ave_Value_Chla','b1_Band', 'b2_Band', 'b3_Band', 'b4_Band', 'b5_Band', 'b6_Band', 'b7_Band', 'b8_Band', 'b9_Band',\n",
    "              'b10_Band', 'b11_Band', 'b12_Band', 'b13_Band', 'b14_Band', 'b15_Band', 'b16_Band', 'b17_Band',\n",
    "              'b18_Band', 'b19_Band', 'b20_Band', 'b21_Band', 'b22_Band', 'b23_Band', 'b24_Band', 'b25_Band', 'b26_Band',\n",
    "              'b27_Band', 'b28_Band', 'b29_Band', 'b30_Band', 'b31_Band', 'b32_Band', 'b33_Band', 'b34_Band', 'b35_Band', \n",
    "              'b36_Band', 'b37_Band', 'b38_Band', 'b39_Band', 'b40_Band', 'b41_Band', 'b42_Band', 'b43_Band', 'b44_Band', \n",
    "              'b45_Band', 'b46_Band', 'b47_Band', 'b48_Band', 'b49_Band', 'b50_Band', 'b51_Band', 'b52_Band', 'b53_Band',\n",
    "              'b54_Band', 'b55_Band', 'b56_Band', 'b57_Band', 'b58_Band', 'b59_Band', 'b60_Band', 'b61_Band', 'b62_Band',\n",
    "              'b63_Band', 'b64_Band', 'b65_Band', 'b66_Band', 'b67_Band', 'b68_Band', 'b69_Band', 'b70_Band', 'b71_Band', \n",
    "              'b72_Band', 'b73_Band', 'b74_Band', 'b75_Band', 'b76_Band', 'b77_Band', 'b78_Band', 'b79_Band', 'b80_Band',\n",
    "              'b81_Band', 'b82_Band', 'b83_Band', 'b84_Band', 'b85_Band', 'b86_Band', 'b87_Band'])].astype('float64').corr()\n",
    "correlation.head()"
   ]
  },
  {
   "cell_type": "markdown",
   "metadata": {},
   "source": [
    "Plot the result as a correlation matrix"
   ]
  },
  {
   "cell_type": "code",
   "execution_count": 12,
   "metadata": {},
   "outputs": [
    {
     "data": {
      "image/png": "[encoded data removed]",
      "text/plain": [
       "<Figure size 432x288 with 2 Axes>"
      ]
     },
     "metadata": {
      "needs_background": "light"
     },
     "output_type": "display_data"
    }
   ],
   "source": [
    "ax = seaborn.heatmap(correlation, cmap=seaborn.diverging_palette(220, 10, as_cmap=True), square = True, annot = False, linewidths = 0)\n",
    "matplotlib.pyplot.show()"
   ]
  },
  {
   "cell_type": "markdown",
   "metadata": {},
   "source": [
    "Many of the predictor variables are positive (bright red), which makes random forest a good choice as it can handle predictor variables that are dependent on each other in a way that minimizes bias."
   ]
  },
  {
   "cell_type": "markdown",
   "metadata": {},
   "source": [
    "## Train and test the random forest classifier with Leave one out Cross Validation (LOOCV)\n",
    "### Test split for cross valdiation - LOOCV\n",
    "We will use k-fold with 10 folds (i.e. LOOCV) to generate train/test splits for cross validation."
   ]
  },
  {
   "cell_type": "code",
   "execution_count": 13,
   "metadata": {},
   "outputs": [
    {
     "name": "stdout",
     "output_type": "stream",
     "text": [
      "k01 | Train: 9 -> [0 1 2 3 4 5 7 8 9] Test: 1 -> [6]\n",
      "k02 | Train: 9 -> [0 2 3 4 5 6 7 8 9] Test: 1 -> [1]\n",
      "k03 | Train: 9 -> [0 1 2 3 4 5 6 7 8] Test: 1 -> [9]\n",
      "k04 | Train: 9 -> [0 1 2 3 4 5 6 8 9] Test: 1 -> [7]\n",
      "k05 | Train: 9 -> [0 1 2 3 4 6 7 8 9] Test: 1 -> [5]\n",
      "k06 | Train: 9 -> [1 2 3 4 5 6 7 8 9] Test: 1 -> [0]\n",
      "k07 | Train: 9 -> [0 1 2 3 5 6 7 8 9] Test: 1 -> [4]\n",
      "k08 | Train: 9 -> [0 1 2 4 5 6 7 8 9] Test: 1 -> [3]\n",
      "k09 | Train: 9 -> [0 1 3 4 5 6 7 8 9] Test: 1 -> [2]\n",
      "k10 | Train: 9 -> [0 1 2 3 4 5 6 7 9] Test: 1 -> [8]\n"
     ]
    }
   ],
   "source": [
    "#Initialize k-folds train/test split generator object\n",
    "k_folds = 10\n",
    "kf = model_selection.KFold(k_folds, True)\n",
    "kf_split= kf.split(in_dataset_df)\n",
    "\n",
    "#Initialize Random Forest Regressor object\n",
    "rfr = sklearn.ensemble.RandomForestRegressor(n_estimators = 500, oob_score = True, bootstrap = True)\n",
    "\n",
    "\n",
    "k_rfr_fit, k_rfr_pred, k_rfr_test = [[] for x in range(3)]\n",
    "i = 0\n",
    "\n",
    "#\n",
    "for train_index, test_index in kf_split:\n",
    "    #Fit model and predict test set\n",
    "    print('k{} | Train: {} -> {}'.format(str(i+1).zfill(2), train_index.size, train_index), 'Test: {} -> {}'.format(test_index.size, test_index))\n",
    "    k_rfr_fit.append(rfr.fit(in_dataset_df[feat_vars].iloc[train_index], in_dataset_df[target_var].iloc[train_index].values.ravel())) #fit model\n",
    "    k_rfr_pred.append(k_rfr_fit[i-1].predict(in_dataset_df[feat_vars].iloc[test_index])[0]) #predict and store target value\n",
    "    k_rfr_test.append(in_dataset_df[target_var].iloc[test_index].values.ravel()[0]) #store test (actual) target value\n",
    "    i+=1"
   ]
  },
  {
   "cell_type": "markdown",
   "metadata": {},
   "source": [
    "Let's take a look at the result:"
   ]
  },
  {
   "cell_type": "code",
   "execution_count": 14,
   "metadata": {},
   "outputs": [
    {
     "data": {
      "text/html": [
       "<div>\n",
       "<style scoped>\n",
       "    .dataframe tbody tr th:only-of-type {\n",
       "        vertical-align: middle;\n",
       "    }\n",
       "\n",
       "    .dataframe tbody tr th {\n",
       "        vertical-align: top;\n",
       "    }\n",
       "\n",
       "    .dataframe thead th {\n",
       "        text-align: right;\n",
       "    }\n",
       "</style>\n",
       "<table border=\"1\" class=\"dataframe\">\n",
       "  <thead>\n",
       "    <tr style=\"text-align: right;\">\n",
       "      <th></th>\n",
       "      <th>Actual</th>\n",
       "      <th>Predicted</th>\n",
       "      <th>Error</th>\n",
       "      <th>Abs_Error</th>\n",
       "    </tr>\n",
       "  </thead>\n",
       "  <tbody>\n",
       "    <tr>\n",
       "      <th>0</th>\n",
       "      <td>3.450180</td>\n",
       "      <td>4.505799</td>\n",
       "      <td>-1.055619</td>\n",
       "      <td>1.055619</td>\n",
       "    </tr>\n",
       "    <tr>\n",
       "      <th>1</th>\n",
       "      <td>5.622150</td>\n",
       "      <td>4.111887</td>\n",
       "      <td>1.510263</td>\n",
       "      <td>1.510263</td>\n",
       "    </tr>\n",
       "    <tr>\n",
       "      <th>2</th>\n",
       "      <td>4.315731</td>\n",
       "      <td>3.651342</td>\n",
       "      <td>0.664389</td>\n",
       "      <td>0.664389</td>\n",
       "    </tr>\n",
       "    <tr>\n",
       "      <th>3</th>\n",
       "      <td>3.955540</td>\n",
       "      <td>4.510842</td>\n",
       "      <td>-0.555302</td>\n",
       "      <td>0.555302</td>\n",
       "    </tr>\n",
       "    <tr>\n",
       "      <th>4</th>\n",
       "      <td>3.926270</td>\n",
       "      <td>4.896376</td>\n",
       "      <td>-0.970106</td>\n",
       "      <td>0.970106</td>\n",
       "    </tr>\n",
       "    <tr>\n",
       "      <th>5</th>\n",
       "      <td>4.005643</td>\n",
       "      <td>4.846141</td>\n",
       "      <td>-0.840499</td>\n",
       "      <td>0.840499</td>\n",
       "    </tr>\n",
       "    <tr>\n",
       "      <th>6</th>\n",
       "      <td>4.176430</td>\n",
       "      <td>4.129215</td>\n",
       "      <td>0.047215</td>\n",
       "      <td>0.047215</td>\n",
       "    </tr>\n",
       "    <tr>\n",
       "      <th>7</th>\n",
       "      <td>5.479870</td>\n",
       "      <td>4.052367</td>\n",
       "      <td>1.427503</td>\n",
       "      <td>1.427503</td>\n",
       "    </tr>\n",
       "    <tr>\n",
       "      <th>8</th>\n",
       "      <td>4.745100</td>\n",
       "      <td>4.549074</td>\n",
       "      <td>0.196026</td>\n",
       "      <td>0.196026</td>\n",
       "    </tr>\n",
       "    <tr>\n",
       "      <th>9</th>\n",
       "      <td>2.504793</td>\n",
       "      <td>4.455528</td>\n",
       "      <td>-1.950735</td>\n",
       "      <td>1.950735</td>\n",
       "    </tr>\n",
       "  </tbody>\n",
       "</table>\n",
       "</div>"
      ],
      "text/plain": [
       "     Actual  Predicted     Error  Abs_Error\n",
       "0  3.450180   4.505799 -1.055619   1.055619\n",
       "1  5.622150   4.111887  1.510263   1.510263\n",
       "2  4.315731   3.651342  0.664389   0.664389\n",
       "3  3.955540   4.510842 -0.555302   0.555302\n",
       "4  3.926270   4.896376 -0.970106   0.970106\n",
       "5  4.005643   4.846141 -0.840499   0.840499\n",
       "6  4.176430   4.129215  0.047215   0.047215\n",
       "7  5.479870   4.052367  1.427503   1.427503\n",
       "8  4.745100   4.549074  0.196026   0.196026\n",
       "9  2.504793   4.455528 -1.950735   1.950735"
      ]
     },
     "execution_count": 14,
     "metadata": {},
     "output_type": "execute_result"
    }
   ],
   "source": [
    "result_df = pandas.DataFrame({'Actual':k_rfr_test, 'Predicted':k_rfr_pred})\n",
    "result_df['Error'] = result_df['Actual'] - result_df['Predicted']\n",
    "result_df['Abs_Error'] = abs(result_df['Error'])\n",
    "result_df"
   ]
  },
  {
   "cell_type": "markdown",
   "metadata": {},
   "source": [
    "#Let's take a look at a graph of the Actual vs. Predicted values."
   ]
  },
  {
   "cell_type": "code",
   "execution_count": 15,
   "metadata": {},
   "outputs": [
    {
     "data": {
      "image/png": "[encoded data removed]",
      "text/plain": [
       "<Figure size 432x288 with 1 Axes>"
      ]
     },
     "metadata": {
      "needs_background": "light"
     },
     "output_type": "display_data"
    }
   ],
   "source": [
    "matplotlib.pyplot.scatter(result_df['Actual'], result_df['Predicted'])\n",
    "matplotlib.pyplot.xlabel('Actual Value')\n",
    "matplotlib.pyplot.ylabel('Predicted Value')\n",
    "matplotlib.pyplot.show()"
   ]
  },
  {
   "cell_type": "markdown",
   "metadata": {},
   "source": [
    "Also, let's graph absolute error for each k fold."
   ]
  },
  {
   "cell_type": "code",
   "execution_count": 16,
   "metadata": {},
   "outputs": [
    {
     "data": {
      "image/png": "[encoded data removed]",
      "text/plain": [
       "<Figure size 432x288 with 1 Axes>"
      ]
     },
     "metadata": {
      "needs_background": "light"
     },
     "output_type": "display_data"
    }
   ],
   "source": [
    "matplotlib.pyplot.plot(range(1,11), result_df['Abs_Error'], '-o')\n",
    "matplotlib.pyplot.xlabel('k fold')\n",
    "matplotlib.pyplot.ylabel('Absolute Error')\n",
    "matplotlib.pyplot.show()"
   ]
  },
  {
   "cell_type": "markdown",
   "metadata": {},
   "source": [
    "Check the accuracy of the result by calculating RMSE."
   ]
  },
  {
   "cell_type": "code",
   "execution_count": 18,
   "metadata": {
    "scrolled": true
   },
   "outputs": [
    {
     "name": "stdout",
     "output_type": "stream",
     "text": [
      "          RMSE:  0.54\n",
      "RMSE 95% Conf.:  1.06\n"
     ]
    }
   ],
   "source": [
    "test_pred_rmse = (sum(result_df['Error']**2)/result_df.size)**0.5\n",
    "print(\"{:>16}{:5.2f}\".format(\"RMSE: \", test_pred_rmse))\n",
    "test_pred_rmse_conf = 1.96*test_pred_rmse\n",
    "print(\"{:>15}{:6.2f}\".format(\"RMSE 95% Conf.:\", test_pred_rmse_conf))"
   ]
  },
  {
   "cell_type": "markdown",
   "metadata": {},
   "source": [
    "95% of estimated values are likely within +- [RMSE95% Conf value] of the actual value. \n",
    "\n",
    "### Entire Dataset\n",
    "\n",
    "We will accept these results and see what happens when we train the Random Forest Regressor on the entire 10-sample dataset."
   ]
  },
  {
   "cell_type": "code",
   "execution_count": 19,
   "metadata": {},
   "outputs": [],
   "source": [
    "dataset_rfr = sklearn.ensemble.RandomForestRegressor(n_estimators = 500, oob_score = True, bootstrap = True)\n",
    "dataset_rfr.fit(in_dataset_df[feat_vars], numpy.array(in_dataset_df[target_var]).flatten())\n",
    "dataset_pred = dataset_rfr.predict(in_dataset_df[feat_vars])\n",
    "dataset_actual = numpy.array(in_dataset_df[target_var]).flatten()\n",
    "result_df = pandas.DataFrame({'Actual':dataset_actual, 'Predicted':dataset_pred})"
   ]
  },
  {
   "cell_type": "code",
   "execution_count": 22,
   "metadata": {},
   "outputs": [
    {
     "name": "stdout",
     "output_type": "stream",
     "text": [
      "          RMSE:  0.35\n",
      "RMSE 95% Conf.:  0.69\n",
      "           R^2:  0.84\n"
     ]
    }
   ],
   "source": [
    "dataset_pred_rmse = (sum((dataset_pred - dataset_actual)**2)/len(dataset_pred))**0.5\n",
    "print(\"{:>16}{:5.2f}\".format(\"RMSE: \", dataset_pred_rmse))\n",
    "dataset_pred_rmse_conf = 1.96*dataset_pred_rmse\n",
    "print(\"{:>15}{:6.2f}\".format(\"RMSE 95% Conf.:\", dataset_pred_rmse_conf))\n",
    "dataset_pred_rsq = dataset_rfr.score(in_dataset_df[numpy.array(feat_vars)], dataset_actual)\n",
    "print(\"{:>15}{:6.2f}\".format(\"R^2:\",dataset_pred_rsq))"
   ]
  },
  {
   "cell_type": "markdown",
   "metadata": {},
   "source": [
    "## Run Random Forest Regressor on Raster to Estimate Chl-a for Each Cell\n",
    "\n",
    "Import the raster which contains the dataset to be predicted where the independent variables (band reflectance) are known and the dependent variable is unknown (chl-a concentration), as a numpy array.\n",
    "\n",
    "First, define input variables."
   ]
  },
  {
   "cell_type": "code",
   "execution_count": 23,
   "metadata": {},
   "outputs": [],
   "source": [
    "in_rast = arcpy.Raster(r'C:\\Users\\zieglerhm\\Documents\\Files\\Portfolio\\Estimate_Chla\\Predict_ChlA.gdb\\IRL_Masked')\n",
    "in_rast_lowerleftpt = arcpy.Point(in_rast.extent.XMin, in_rast.extent.YMin)\n",
    "in_rast_xsize = in_rast.meanCellWidth\n",
    "in_rast_ysize = in_rast.meanCellHeight\n",
    "in_rast_sptref = in_rast.spatialReference"
   ]
  },
  {
   "cell_type": "markdown",
   "metadata": {},
   "source": [
    "Now create the raster array. Notice the output shape of in_rast_array."
   ]
  },
  {
   "cell_type": "code",
   "execution_count": 24,
   "metadata": {},
   "outputs": [
    {
     "name": "stdout",
     "output_type": "stream",
     "text": [
      "Shape: (87, 201, 80)\n",
      "Data type: int16\n",
      "[[[0 0 0 ... 0 0 0]\n",
      "  [0 0 0 ... 0 0 0]\n",
      "  [0 0 0 ... 0 0 0]\n",
      "  ...\n",
      "  [0 0 0 ... 0 0 0]\n",
      "  [0 0 0 ... 0 0 0]\n",
      "  [0 0 0 ... 0 0 0]]\n",
      "\n",
      " [[0 0 0 ... 0 0 0]\n",
      "  [0 0 0 ... 0 0 0]\n",
      "  [0 0 0 ... 0 0 0]\n",
      "  ...\n",
      "  [0 0 0 ... 0 0 0]\n",
      "  [0 0 0 ... 0 0 0]\n",
      "  [0 0 0 ... 0 0 0]]\n",
      "\n",
      " [[0 0 0 ... 0 0 0]\n",
      "  [0 0 0 ... 0 0 0]\n",
      "  [0 0 0 ... 0 0 0]\n",
      "  ...\n",
      "  [0 0 0 ... 0 0 0]\n",
      "  [0 0 0 ... 0 0 0]\n",
      "  [0 0 0 ... 0 0 0]]]\n"
     ]
    }
   ],
   "source": [
    "in_rast_array = arcpy.RasterToNumPyArray(in_rast, nodata_to_value = None)\n",
    "print(\"Shape: {}\".format(in_rast_array.shape))\n",
    "print(\"Data type: {}\".format(in_rast_array.dtype))\n",
    "print(in_rast_array[:3])"
   ]
  },
  {
   "cell_type": "markdown",
   "metadata": {},
   "source": [
    "In order to use in_rast_array transpose and reshape as input as a 2d array with the number of rows being the individual cells (201 x 70 = 16080) and the number of columns being the number of bands (87)."
   ]
  },
  {
   "cell_type": "code",
   "execution_count": 25,
   "metadata": {},
   "outputs": [
    {
     "name": "stdout",
     "output_type": "stream",
     "text": [
      "Shape: (16080, 87)\n",
      "Data type: int16\n",
      "[[0 0 0 ... 0 0 0]\n",
      " [0 0 0 ... 0 0 0]\n",
      " [0 0 0 ... 0 0 0]\n",
      " ...\n",
      " [0 0 0 ... 0 0 0]\n",
      " [0 0 0 ... 0 0 0]\n",
      " [0 0 0 ... 0 0 0]]\n"
     ]
    }
   ],
   "source": [
    "in_rast_array_reshape = in_rast_array.transpose(1, 2, 0).reshape(16080,87)\n",
    "print(\"Shape: {}\".format(in_rast_array_reshape.shape))\n",
    "print(\"Data type: {}\".format(in_rast_array_reshape.dtype))\n",
    "print(in_rast_array_reshape)"
   ]
  },
  {
   "cell_type": "markdown",
   "metadata": {},
   "source": [
    "Apply the Random Forest Regressor model created from the 10 sample points in dataset.rar. The output is a 1d array with the estimated values of Chl-a."
   ]
  },
  {
   "cell_type": "code",
   "execution_count": 26,
   "metadata": {},
   "outputs": [
    {
     "name": "stdout",
     "output_type": "stream",
     "text": [
      "Shape: (16080,)\n",
      "Data type: float64\n",
      "[4.27534461 4.27534461 4.27534461 ... 4.27534461 4.27534461 4.27534461]\n"
     ]
    }
   ],
   "source": [
    "in_rast_pred = dataset_rfr.predict(in_rast_array_reshape)\n",
    "print(\"Shape: {}\".format(in_rast_pred.shape))\n",
    "print(\"Data type: {}\".format(in_rast_pred.dtype))\n",
    "print(in_rast_pred)"
   ]
  },
  {
   "cell_type": "markdown",
   "metadata": {},
   "source": [
    "Convert the 1d array back into a 2d array of shape 201, 80, where each record in the raster grid only has one value, the estimated value of chl-a for that cell."
   ]
  },
  {
   "cell_type": "code",
   "execution_count": 27,
   "metadata": {
    "scrolled": true
   },
   "outputs": [
    {
     "name": "stdout",
     "output_type": "stream",
     "text": [
      "Shape: (201, 80)\n",
      "Data type: float64\n",
      "[[4.27534461 4.27534461 4.27534461 ... 4.27534461 4.27534461 4.27534461]\n",
      " [4.27534461 4.27534461 4.27534461 ... 4.27534461 4.27534461 4.27534461]\n",
      " [4.27534461 4.27534461 4.27534461 ... 4.27534461 4.27534461 4.27534461]\n",
      " ...\n",
      " [4.27534461 4.27534461 4.27534461 ... 4.27534461 4.27534461 4.27534461]\n",
      " [4.27534461 4.27534461 4.27534461 ... 4.27534461 4.27534461 4.27534461]\n",
      " [4.27534461 4.27534461 4.27534461 ... 4.27534461 4.27534461 4.27534461]]\n"
     ]
    }
   ],
   "source": [
    "in_rast_pred_reshape = in_rast_pred.reshape(201, 80)\n",
    "print(\"Shape: {}\".format(in_rast_pred_reshape.shape))\n",
    "print(\"Data type: {}\".format(in_rast_pred_reshape.dtype))\n",
    "print(in_rast_pred_reshape)"
   ]
  },
  {
   "cell_type": "markdown",
   "metadata": {},
   "source": [
    "Convert the numpy array back to a raster."
   ]
  },
  {
   "cell_type": "code",
   "execution_count": 28,
   "metadata": {},
   "outputs": [
    {
     "ename": "SystemError",
     "evalue": "<built-in function __import__> returned a result with an error set",
     "output_type": "error",
     "traceback": [
      "\u001b[1;31m---------------------------------------------------------------------------\u001b[0m",
      "\u001b[1;31mValueError\u001b[0m                                Traceback (most recent call last)",
      "\u001b[1;31mValueError\u001b[0m: The truth value of an array with more than one element is ambiguous. Use a.any() or a.all()",
      "\nThe above exception was the direct cause of the following exception:\n",
      "\u001b[1;31mSystemError\u001b[0m                               Traceback (most recent call last)",
      "\u001b[1;31mSystemError\u001b[0m: <built-in function __import__> returned a result with an error set"
     ]
    },
    {
     "ename": "SystemError",
     "evalue": "<built-in function __import__> returned a result with an error set",
     "output_type": "error",
     "traceback": [
      "\u001b[1;31m---------------------------------------------------------------------------\u001b[0m",
      "\u001b[1;31mValueError\u001b[0m                                Traceback (most recent call last)",
      "\u001b[1;31mValueError\u001b[0m: The truth value of an array with more than one element is ambiguous. Use a.any() or a.all()",
      "\nThe above exception was the direct cause of the following exception:\n",
      "\u001b[1;31mSystemError\u001b[0m                               Traceback (most recent call last)",
      "\u001b[1;31mSystemError\u001b[0m: <built-in function __import__> returned a result with an error set"
     ]
    },
    {
     "ename": "SystemError",
     "evalue": "<built-in function __import__> returned a result with an error set",
     "output_type": "error",
     "traceback": [
      "\u001b[1;31m---------------------------------------------------------------------------\u001b[0m",
      "\u001b[1;31mValueError\u001b[0m                                Traceback (most recent call last)",
      "\u001b[1;31mValueError\u001b[0m: The truth value of an array with more than one element is ambiguous. Use a.any() or a.all()",
      "\nThe above exception was the direct cause of the following exception:\n",
      "\u001b[1;31mSystemError\u001b[0m                               Traceback (most recent call last)",
      "\u001b[1;31mSystemError\u001b[0m: <built-in function __import__> returned a result with an error set"
     ]
    },
    {
     "data": {
      "text/plain": [
       "<Result 'C:\\\\Users\\\\zieglerhm\\\\Documents\\\\Files\\\\Portfolio\\\\Estimate_Chla\\\\Predict_ChlA.gdb\\\\IRL_Predicted_ChlA'>"
      ]
     },
     "execution_count": 28,
     "metadata": {},
     "output_type": "execute_result"
    }
   ],
   "source": [
    "arcpy.env.overwriteOutput = True\n",
    "out_rast = arcpy.NumPyArrayToRaster(in_rast_pred_reshape, in_rast_lowerleftpt, in_rast_xsize, in_rast_ysize, value_to_nodata = 4.240109488239989)\n",
    "out_rast.save(r'C:\\Users\\zieglerhm\\Documents\\Files\\Portfolio\\Estimate_Chla\\Predict_ChlA.gdb\\IRL_Predicted_ChlA')\n",
    "arcpy.management.DefineProjection(out_rast, in_rast_sptref)"
   ]
  }
 ],
 "metadata": {
  "kernelspec": {
   "display_name": "Python 3",
   "language": "python",
   "name": "python3"
  },
  "language_info": {
   "codemirror_mode": {
    "name": "ipython",
    "version": 3
   },
   "file_extension": ".py",
   "mimetype": "text/x-python",
   "name": "python",
   "nbconvert_exporter": "python",
   "pygments_lexer": "ipython3",
   "version": "3.6.6"
  }
 },
 "nbformat": 4,
 "nbformat_minor": 2
}
